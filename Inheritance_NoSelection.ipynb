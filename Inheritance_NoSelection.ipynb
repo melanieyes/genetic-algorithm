{
 "cells": [
  {
   "cell_type": "code",
   "execution_count": 1,
   "metadata": {},
   "outputs": [],
   "source": [
    "import random\n",
    "\n",
    "# gene\n",
    "def generate_01():\n",
    "    return random.randint(0, 1)\n",
    "\n",
    "# evaluate\n",
    "def compute_fitness(vector):\n",
    "    return sum(gen for gen in vector)\n",
    "\n",
    "def create_vector():\n",
    "    return [generate_01() for _ in range(n)]\n",
    "\n",
    "def exchange(vector1, vector2, n, rate=0.9):\n",
    "    vector1_new = vector1.copy()\n",
    "    vector2_new = vector2.copy()\n",
    "    \n",
    "    for i in range(n):\n",
    "        if random.random() < rate:\n",
    "            vector1_new[i] = vector2[i]\n",
    "            vector2_new[i] = vector1[i]            \n",
    "    \n",
    "    return vector1_new, vector2_new"
   ]
  },
  {
   "cell_type": "code",
   "execution_count": 2,
   "metadata": {},
   "outputs": [
    {
     "name": "stdout",
     "output_type": "stream",
     "text": [
      "BEST: 15\n",
      "BEST: 16\n",
      "BEST: 16\n",
      "BEST: 17\n",
      "BEST: 15\n",
      "BEST: 16\n",
      "BEST: 14\n",
      "BEST: 14\n",
      "BEST: 15\n",
      "BEST: 17\n",
      "BEST: 17\n",
      "BEST: 15\n",
      "BEST: 14\n",
      "BEST: 13\n",
      "BEST: 13\n",
      "BEST: 13\n",
      "BEST: 13\n",
      "BEST: 13\n",
      "BEST: 13\n",
      "BEST: 13\n",
      "BEST: 13\n",
      "BEST: 15\n",
      "BEST: 15\n",
      "BEST: 14\n",
      "BEST: 13\n",
      "BEST: 13\n",
      "BEST: 13\n",
      "BEST: 13\n",
      "BEST: 13\n",
      "BEST: 14\n"
     ]
    }
   ],
   "source": [
    "n = 20                 # size of individual (chromosome)\n",
    "m = 40                 # size of population\n",
    "n_generations = 30     # number of generations\n",
    "\n",
    "# để vẽ biểu đồ quá trình tối ưu\n",
    "fitnesses = []\n",
    "\n",
    "# 1. create population\n",
    "vectors = [create_vector() for _ in range(m)]\n",
    "\n",
    "# loops\n",
    "for i in range(n_generations):    \n",
    "    # 2. compute fitness\n",
    "    sorted_vectors = sorted(vectors, key=compute_fitness)\n",
    "    \n",
    "    # debug\n",
    "    if i%1 == 0:\n",
    "        fitnesses.append(compute_fitness(sorted_vectors[m-1]))\n",
    "        print(\"BEST:\", compute_fitness(sorted_vectors[m-1]))      \n",
    "    \n",
    "    # exchange\n",
    "    new_vectors = []\n",
    "    while len(new_vectors) < m:\n",
    "        # get two indices\n",
    "        index1 = random.randint(0, m-1)    \n",
    "        while True:\n",
    "            index2 = random.randint(0, m-1)    \n",
    "            if (index2 != index1):\n",
    "                break\n",
    "            \n",
    "        vector1 = vectors[index1]\n",
    "        vector2 = vectors[index2]\n",
    "        \n",
    "        # exchange\n",
    "        vector1, vector2 = exchange(vector1, vector2, n)\n",
    "        \n",
    "        # save these two vectors\n",
    "        new_vectors.append(vector1)\n",
    "        new_vectors.append(vector2) \n",
    "        \n",
    "    # update\n",
    "    vectors = new_vectors"
   ]
  },
  {
   "cell_type": "code",
   "execution_count": null,
   "metadata": {},
   "outputs": [],
   "source": []
  },
  {
   "cell_type": "code",
   "execution_count": 3,
   "metadata": {},
   "outputs": [
    {
     "name": "stdout",
     "output_type": "stream",
     "text": [
      "[1, 1, 0, 0, 1, 1, 1, 1, 1, 1, 1, 1, 1, 0, 1, 1, 1, 0, 1, 1]\n"
     ]
    }
   ],
   "source": [
    "sorted_vectors = sorted(vectors, key=compute_fitness)\n",
    "vector_best = sorted_vectors[-1]\n",
    "print(vector_best)"
   ]
  },
  {
   "cell_type": "code",
   "execution_count": 3,
   "metadata": {},
   "outputs": [
    {
     "data": {
      "image/png": "[encoded data removed]",
      "text/plain": [
       "<Figure size 800x600 with 1 Axes>"
      ]
     },
     "metadata": {},
     "output_type": "display_data"
    }
   ],
   "source": [
    "import matplotlib.pyplot as plt\n",
    "#%matplotlib qt\n",
    "\n",
    "fig, ax = plt.subplots(figsize=(8, 6))\n",
    "ax.set_ylim((8, 18))\n",
    "\n",
    "plt.plot(fitnesses)\n",
    "plt.xlabel('Generations')\n",
    "plt.ylabel('Fitness')\n",
    "plt.show()"
   ]
  },
  {
   "cell_type": "code",
   "execution_count": null,
   "metadata": {},
   "outputs": [],
   "source": []
  }
 ],
 "metadata": {
  "kernelspec": {
   "display_name": "Python 3 (ipykernel)",
   "language": "python",
   "name": "python3"
  },
  "language_info": {
   "codemirror_mode": {
    "name": "ipython",
    "version": 3
   },
   "file_extension": ".py",
   "mimetype": "text/x-python",
   "name": "python",
   "nbconvert_exporter": "python",
   "pygments_lexer": "ipython3",
   "version": "3.11.5"
  }
 },
 "nbformat": 4,
 "nbformat_minor": 4
}
