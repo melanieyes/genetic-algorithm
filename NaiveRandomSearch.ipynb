{
 "cells": [
  {
   "cell_type": "code",
   "execution_count": null,
   "id": "cf0b6b83",
   "metadata": {},
   "outputs": [],
   "source": []
  },
  {
   "cell_type": "code",
   "execution_count": 1,
   "id": "5652c7d3",
   "metadata": {},
   "outputs": [],
   "source": [
    "import random\n",
    "\n",
    "def random_01():\n",
    "    rand_int = 1\n",
    "    if random.random() < 0.5:        \n",
    "        rand_int = 0       \n",
    "        \n",
    "    return rand_int\n",
    "\n",
    "def create_vector(n):\n",
    "    individual = [random.randint(0, 1) for _ in range(n)]\n",
    "    return individual"
   ]
  },
  {
   "cell_type": "code",
   "execution_count": 2,
   "id": "143aca8a",
   "metadata": {},
   "outputs": [
    {
     "name": "stdout",
     "output_type": "stream",
     "text": [
      "[0, 0, 0, 0, 1, 1, 0, 1, 0, 1]\n"
     ]
    }
   ],
   "source": [
    "vector1 = create_vector(10)\n",
    "print(vector1)"
   ]
  },
  {
   "cell_type": "code",
   "execution_count": 3,
   "id": "38b0ed2f",
   "metadata": {},
   "outputs": [],
   "source": [
    "# fitness function\n",
    "def secret(vector):\n",
    "    return sum(vector)"
   ]
  },
  {
   "cell_type": "code",
   "execution_count": 4,
   "id": "70f2b644",
   "metadata": {},
   "outputs": [
    {
     "name": "stdout",
     "output_type": "stream",
     "text": [
      "4\n"
     ]
    }
   ],
   "source": [
    "score1 = secret(vector1)\n",
    "print(score1)"
   ]
  },
  {
   "cell_type": "code",
   "execution_count": null,
   "id": "9a2aacb3",
   "metadata": {},
   "outputs": [],
   "source": []
  },
  {
   "cell_type": "code",
   "execution_count": 2,
   "id": "a01f2133",
   "metadata": {},
   "outputs": [
    {
     "name": "stdout",
     "output_type": "stream",
     "text": [
      "[0, 1, 1, 1, 1, 0, 1, 1, 0, 1]\n",
      "7\n"
     ]
    }
   ],
   "source": [
    "# vector length\n",
    "n = 10  # problem size\n",
    "m = 8   # number of workers\n",
    "\n",
    "vector = create_vector(n)\n",
    "print(vector)\n",
    "\n",
    "fitness = secret(vector)\n",
    "print(fitness)"
   ]
  },
  {
   "cell_type": "code",
   "execution_count": null,
   "id": "74c9a0b2",
   "metadata": {},
   "outputs": [],
   "source": []
  },
  {
   "cell_type": "code",
   "execution_count": 5,
   "id": "6c70f461",
   "metadata": {},
   "outputs": [],
   "source": [
    "# vector length\n",
    "n = 10  # problem size\n",
    "m = 8   # number of workers\n",
    "\n",
    "def generate_vectors(n, m):\n",
    "    vectors = [create_vector(n) for _ in range(m)]            \n",
    "    return vectors\n",
    "\n",
    "def print_vectors(vectors, m):\n",
    "    for i in range(m):\n",
    "        print(vectors[i])"
   ]
  },
  {
   "cell_type": "code",
   "execution_count": 6,
   "id": "0e3f71b1",
   "metadata": {},
   "outputs": [
    {
     "name": "stdout",
     "output_type": "stream",
     "text": [
      "[1, 1, 0, 0, 1, 0, 0, 0, 0, 0]\n",
      "[0, 0, 1, 1, 1, 0, 0, 1, 1, 0]\n",
      "[1, 1, 1, 1, 1, 1, 1, 1, 0, 0]\n",
      "[0, 0, 1, 0, 1, 0, 0, 0, 1, 1]\n",
      "[0, 1, 0, 0, 1, 1, 0, 0, 0, 1]\n",
      "[0, 1, 0, 0, 0, 0, 1, 0, 1, 1]\n",
      "[1, 0, 0, 0, 1, 1, 1, 1, 0, 0]\n",
      "[0, 1, 0, 1, 1, 1, 1, 1, 0, 1]\n"
     ]
    }
   ],
   "source": [
    "vectors = generate_vectors(n, m)\n",
    "print_vectors(vectors, m)"
   ]
  },
  {
   "cell_type": "code",
   "execution_count": null,
   "id": "e1eab2a9",
   "metadata": {},
   "outputs": [],
   "source": []
  },
  {
   "cell_type": "code",
   "execution_count": 7,
   "id": "1af4168b",
   "metadata": {},
   "outputs": [],
   "source": [
    "# fitness function\n",
    "def compute_fitness(vectors):\n",
    "    fitnesses = [secret(vector) for vector in vectors]\n",
    "    return fitnesses"
   ]
  },
  {
   "cell_type": "code",
   "execution_count": 8,
   "id": "1553bca5",
   "metadata": {},
   "outputs": [
    {
     "name": "stdout",
     "output_type": "stream",
     "text": [
      "[3, 5, 8, 4, 4, 4, 5, 7]\n"
     ]
    }
   ],
   "source": [
    "fitnesses = compute_fitness(vectors)\n",
    "print(fitnesses)"
   ]
  },
  {
   "cell_type": "code",
   "execution_count": null,
   "id": "a8e39e83",
   "metadata": {},
   "outputs": [],
   "source": []
  },
  {
   "cell_type": "code",
   "execution_count": null,
   "id": "f9eb124f",
   "metadata": {},
   "outputs": [],
   "source": []
  },
  {
   "cell_type": "code",
   "execution_count": 7,
   "id": "1728033a",
   "metadata": {},
   "outputs": [
    {
     "name": "stdout",
     "output_type": "stream",
     "text": [
      "[0, 1, 1, 0, 1, 0, 1, 0, 1, 0, 1, 1, 1, 0, 0]\n",
      "[1, 1, 1, 0, 0, 0, 1, 0, 1, 1, 0, 1, 1, 0, 0]\n",
      "[1, 0, 0, 1, 1, 1, 0, 1, 0, 0, 0, 1, 0, 0, 1]\n",
      "[0, 1, 0, 0, 1, 0, 1, 1, 0, 1, 0, 0, 0, 1, 1]\n",
      "[0, 1, 0, 1, 0, 0, 0, 1, 1, 1, 1, 1, 1, 0, 1]\n",
      "[1, 1, 0, 1, 0, 1, 1, 1, 1, 1, 1, 1, 0, 0, 1]\n",
      "[0, 0, 0, 0, 1, 1, 1, 1, 1, 1, 1, 0, 0, 1, 1]\n",
      "[1, 0, 0, 1, 0, 0, 0, 1, 0, 0, 1, 1, 0, 1, 1]\n",
      "fitnesses:  [8, 8, 7, 7, 9, 11, 9, 7]\n"
     ]
    }
   ],
   "source": [
    "# method 1: generate one set\n",
    "\n",
    "n = 15\n",
    "m = 8\n",
    "\n",
    "vectors = generate_vectors(n, m)\n",
    "print_vectors(vectors, m)\n",
    "\n",
    "fitnesses = compute_fitness(vectors)\n",
    "print('fitnesses: ', fitnesses)"
   ]
  },
  {
   "cell_type": "code",
   "execution_count": null,
   "id": "ec086188",
   "metadata": {},
   "outputs": [],
   "source": []
  },
  {
   "cell_type": "code",
   "execution_count": 8,
   "id": "6c6073a2",
   "metadata": {},
   "outputs": [
    {
     "name": "stdout",
     "output_type": "stream",
     "text": [
      "11 [6, 8, 6, 8, 8, 11, 7, 8]\n",
      "10 [6, 10, 3, 5, 5, 7, 7, 9]\n",
      "10 [7, 7, 10, 6, 7, 7, 4, 10]\n",
      "11 [6, 7, 7, 11, 5, 8, 9, 3]\n",
      "9 [8, 7, 9, 6, 6, 6, 6, 6]\n",
      "13 [11, 6, 8, 8, 5, 13, 7, 8]\n",
      "9 [9, 7, 4, 6, 6, 4, 6, 7]\n",
      "9 [8, 7, 8, 8, 8, 9, 7, 6]\n",
      "10 [8, 6, 8, 4, 8, 10, 8, 7]\n",
      "9 [4, 6, 9, 8, 7, 9, 8, 7]\n",
      "10 [8, 7, 9, 5, 10, 8, 7, 7]\n",
      "9 [7, 5, 9, 6, 8, 8, 7, 7]\n",
      "11 [8, 9, 10, 8, 4, 6, 5, 11]\n",
      "12 [9, 8, 5, 5, 5, 12, 9, 11]\n",
      "10 [8, 9, 6, 10, 8, 4, 4, 10]\n"
     ]
    }
   ],
   "source": [
    "# method 2: Generate different groups of m vectors\n",
    "\n",
    "n = 15\n",
    "m = 8\n",
    "\n",
    "# k loops\n",
    "k = 15\n",
    "\n",
    "for _ in range(k):\n",
    "    vectors   = generate_vectors(n, m)\n",
    "    fitnesses = compute_fitness(vectors)\n",
    "    max_score = max(fitnesses)\n",
    "    print(max_score, fitnesses)"
   ]
  },
  {
   "cell_type": "code",
   "execution_count": null,
   "id": "1c79a727",
   "metadata": {},
   "outputs": [],
   "source": []
  },
  {
   "cell_type": "code",
   "execution_count": 9,
   "id": "73cfa5e5",
   "metadata": {},
   "outputs": [],
   "source": [
    "n = 10\n",
    "m = 8\n",
    "\n",
    "# k loops\n",
    "k = 60\n",
    "\n",
    "list_of_fitnesses = []\n",
    "for _ in range(k):\n",
    "    # gather workers and assign locations randomly\n",
    "    vectors   = generate_vectors(n, m)\n",
    "    \n",
    "    # look at their clocks\n",
    "    fitnesses = compute_fitness(vectors)\n",
    "    \n",
    "    # get max\n",
    "    max_fitness = max(fitnesses)\n",
    "    list_of_fitnesses.append(max_fitness)"
   ]
  },
  {
   "cell_type": "code",
   "execution_count": 10,
   "id": "0f65df14",
   "metadata": {},
   "outputs": [
    {
     "data": {
      "text/plain": [
       "Text(0.5, 1.0, 'Fitness values for 60 iterations')"
      ]
     },
     "execution_count": 10,
     "metadata": {},
     "output_type": "execute_result"
    },
    {
     "data": {
      "image/png": "[encoded data removed]",
      "text/plain": [
       "<Figure size 640x480 with 1 Axes>"
      ]
     },
     "metadata": {},
     "output_type": "display_data"
    }
   ],
   "source": [
    "import matplotlib.pyplot as plt\n",
    "\n",
    "plt.plot(list_of_fitnesses)\n",
    "plt.ylabel('Fitness')\n",
    "plt.xlabel('Iteration')\n",
    "plt.title('Fitness values for 60 iterations')"
   ]
  },
  {
   "cell_type": "code",
   "execution_count": null,
   "id": "deda6e0c",
   "metadata": {},
   "outputs": [],
   "source": []
  }
 ],
 "metadata": {
  "kernelspec": {
   "display_name": "Python 3 (ipykernel)",
   "language": "python",
   "name": "python3"
  },
  "language_info": {
   "codemirror_mode": {
    "name": "ipython",
    "version": 3
   },
   "file_extension": ".py",
   "mimetype": "text/x-python",
   "name": "python",
   "nbconvert_exporter": "python",
   "pygments_lexer": "ipython3",
   "version": "3.11.5"
  }
 },
 "nbformat": 4,
 "nbformat_minor": 5
}
